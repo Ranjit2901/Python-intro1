{
 "cells": [
  {
   "cell_type": "code",
   "execution_count": 5,
   "id": "e9eea009-1be9-45e4-b01f-74898d571e6c",
   "metadata": {},
   "outputs": [
    {
     "name": "stdout",
     "output_type": "stream",
     "text": [
      "Hello World\n"
     ]
    }
   ],
   "source": [
    "print(\"Hello World\")"
   ]
  },
  {
   "cell_type": "code",
   "execution_count": 9,
   "id": "7359137f-fd27-4b45-aa77-dd9e81c559ed",
   "metadata": {},
   "outputs": [
    {
     "name": "stdout",
     "output_type": "stream",
     "text": [
      "ranjit\n"
     ]
    }
   ],
   "source": [
    "print(\"ranjit\")"
   ]
  },
  {
   "cell_type": "code",
   "execution_count": 11,
   "id": "e534f288-2c30-4cf8-a1b9-cd28e95001d9",
   "metadata": {},
   "outputs": [
    {
     "name": "stdout",
     "output_type": "stream",
     "text": [
      "10\n"
     ]
    }
   ],
   "source": [
    "print(10)"
   ]
  },
  {
   "cell_type": "code",
   "execution_count": 13,
   "id": "5667add5-1f45-4e95-9809-be6103030f42",
   "metadata": {},
   "outputs": [
    {
     "name": "stdout",
     "output_type": "stream",
     "text": [
      "9.1\n"
     ]
    }
   ],
   "source": [
    "print(9.1)"
   ]
  },
  {
   "cell_type": "code",
   "execution_count": 21,
   "id": "e9ec70b0-3127-4e2b-931f-85f48134af29",
   "metadata": {},
   "outputs": [
    {
     "name": "stdout",
     "output_type": "stream",
     "text": [
      "ranjit\n"
     ]
    }
   ],
   "source": [
    "print('ranjit')"
   ]
  },
  {
   "cell_type": "code",
   "execution_count": 23,
   "id": "8e7e54a0-c243-4648-ab70-98d621890d7c",
   "metadata": {},
   "outputs": [
    {
     "data": {
      "text/plain": [
       "5"
      ]
     },
     "execution_count": 23,
     "metadata": {},
     "output_type": "execute_result"
    }
   ],
   "source": [
    "x=5\n",
    "x"
   ]
  },
  {
   "cell_type": "code",
   "execution_count": 25,
   "id": "a761bf5c-b92a-4ae8-9a04-4bd4ecc1f543",
   "metadata": {},
   "outputs": [
    {
     "data": {
      "text/plain": [
       "int"
      ]
     },
     "execution_count": 25,
     "metadata": {},
     "output_type": "execute_result"
    }
   ],
   "source": [
    "type(x)"
   ]
  },
  {
   "cell_type": "code",
   "execution_count": 27,
   "id": "d8d671fb-2fde-41af-942a-c66bb77e18fe",
   "metadata": {},
   "outputs": [
    {
     "data": {
      "text/plain": [
       "float"
      ]
     },
     "execution_count": 27,
     "metadata": {},
     "output_type": "execute_result"
    }
   ],
   "source": [
    "x=10.8\n",
    "type(x)"
   ]
  },
  {
   "cell_type": "code",
   "execution_count": 36,
   "id": "663850b4-3f82-4b48-9bf3-4a751f35fabf",
   "metadata": {},
   "outputs": [
    {
     "data": {
      "text/plain": [
       "str"
      ]
     },
     "execution_count": 36,
     "metadata": {},
     "output_type": "execute_result"
    }
   ],
   "source": [
    "name=\"Ranjit\"\n",
    "type(name)"
   ]
  },
  {
   "cell_type": "code",
   "execution_count": 38,
   "id": "5b1321b8-d14a-4bf2-bd26-03964adc8aed",
   "metadata": {},
   "outputs": [
    {
     "data": {
      "text/plain": [
       "bool"
      ]
     },
     "execution_count": 38,
     "metadata": {},
     "output_type": "execute_result"
    }
   ],
   "source": [
    "z=True\n",
    "type(z)"
   ]
  },
  {
   "cell_type": "code",
   "execution_count": 44,
   "id": "1d5db0a4-f20f-4ee7-a458-e05f2526d904",
   "metadata": {},
   "outputs": [
    {
     "data": {
      "text/plain": [
       "type[['Pythn', 'R']]"
      ]
     },
     "execution_count": 44,
     "metadata": {},
     "output_type": "execute_result"
    }
   ],
   "source": [
    "### variables\n",
    "booknames=[\"Pythn\",\"R\"]\n",
    "type[booknames]"
   ]
  },
  {
   "cell_type": "code",
   "execution_count": 54,
   "id": "35f1e2c3-b2d0-46f3-ad9e-c265aee974fa",
   "metadata": {},
   "outputs": [
    {
     "ename": "SyntaxError",
     "evalue": "invalid syntax (2284537613.py, line 1)",
     "output_type": "error",
     "traceback": [
      "\u001b[1;36m  Cell \u001b[1;32mIn[54], line 1\u001b[1;36m\u001b[0m\n\u001b[1;33m    book names=[\"Pythn\",\"R\"]\u001b[0m\n\u001b[1;37m         ^\u001b[0m\n\u001b[1;31mSyntaxError\u001b[0m\u001b[1;31m:\u001b[0m invalid syntax\n"
     ]
    }
   ],
   "source": [
    "book names=[\"Pythn\",\"R\"]\n",
    "type[book names]"
   ]
  },
  {
   "cell_type": "code",
   "execution_count": 52,
   "id": "6a1029ca-9f48-4ab4-924b-7917d2f1022e",
   "metadata": {},
   "outputs": [
    {
     "ename": "SyntaxError",
     "evalue": "invalid decimal literal (568399200.py, line 1)",
     "output_type": "error",
     "traceback": [
      "\u001b[1;36m  Cell \u001b[1;32mIn[52], line 1\u001b[1;36m\u001b[0m\n\u001b[1;33m    2booknames=[\"Pythn\",\"R\"]\u001b[0m\n\u001b[1;37m    ^\u001b[0m\n\u001b[1;31mSyntaxError\u001b[0m\u001b[1;31m:\u001b[0m invalid decimal literal\n"
     ]
    }
   ],
   "source": [
    "2booknames=[\"Pythn\",\"R\"]\n",
    "type[2booknames]"
   ]
  },
  {
   "cell_type": "code",
   "execution_count": 56,
   "id": "b858fd3d-2afe-4b48-a074-0f5157875590",
   "metadata": {},
   "outputs": [
    {
     "data": {
      "text/plain": [
       "type[['Pythn', 'R']]"
      ]
     },
     "execution_count": 56,
     "metadata": {},
     "output_type": "execute_result"
    }
   ],
   "source": [
    "book2names=[\"Pythn\",\"R\"]\n",
    "type[book2names]"
   ]
  },
  {
   "cell_type": "code",
   "execution_count": 58,
   "id": "3dfb071f-b14c-4d1d-aaf9-227bf1203f37",
   "metadata": {},
   "outputs": [
    {
     "data": {
      "text/plain": [
       "type[['Pythn', 'R']]"
      ]
     },
     "execution_count": 58,
     "metadata": {},
     "output_type": "execute_result"
    }
   ],
   "source": [
    "book_names=[\"Pythn\",\"R\"]\n",
    "type[book_names]"
   ]
  },
  {
   "cell_type": "code",
   "execution_count": 60,
   "id": "18614033-1f7c-4567-aeea-7013fd681808",
   "metadata": {},
   "outputs": [
    {
     "data": {
      "text/plain": [
       "type[['Pythn', 'R']]"
      ]
     },
     "execution_count": 60,
     "metadata": {},
     "output_type": "execute_result"
    }
   ],
   "source": [
    "_booknames=[\"Pythn\",\"R\"]\n",
    "type[_booknames]"
   ]
  },
  {
   "cell_type": "markdown",
   "id": "e07448f2-4b1b-42bd-b9b2-d95b823c6d2f",
   "metadata": {},
   "source": [
    "#### variables names shouls start with A-Z or a-z or_\n",
    "#### space is not allowed\n",
    "#### it should not start with number\n",
    "#### the only allowed spl chartcrt is underscore"
   ]
  },
  {
   "cell_type": "markdown",
   "id": "0710f43e-3de6-4a38-b2ba-96db10069fea",
   "metadata": {},
   "source": [
    "### Data Structure\n",
    "LIST"
   ]
  },
  {
   "cell_type": "code",
   "execution_count": 68,
   "id": "6d6de83c-1f5a-4ffb-91c5-bef83abe9ad0",
   "metadata": {},
   "outputs": [
    {
     "data": {
      "text/plain": [
       "[1, 2, 3, 4, 5, 'Python', True]"
      ]
     },
     "execution_count": 68,
     "metadata": {},
     "output_type": "execute_result"
    }
   ],
   "source": [
    "a=[1,2,3,4,5,'Python', True]\n",
    "a"
   ]
  },
  {
   "cell_type": "code",
   "execution_count": 78,
   "id": "24de5b38-1e73-4745-b802-88ac71a95d5b",
   "metadata": {},
   "outputs": [
    {
     "data": {
      "text/plain": [
       "list"
      ]
     },
     "execution_count": 78,
     "metadata": {},
     "output_type": "execute_result"
    }
   ],
   "source": [
    "a=[1,2,3,4,5,'Python', True]\n",
    "type(a)"
   ]
  },
  {
   "cell_type": "code",
   "execution_count": 72,
   "id": "a68b8a1d-2b40-4756-999f-42da399d53a5",
   "metadata": {},
   "outputs": [
    {
     "data": {
      "text/plain": [
       "[1, 2, 3, 4, 5, 'Python', True, 21.3, 45.2]"
      ]
     },
     "execution_count": 72,
     "metadata": {},
     "output_type": "execute_result"
    }
   ],
   "source": [
    "a=[1,2,3,4,5,'Python', True,21.3,45.2]\n",
    "a"
   ]
  },
  {
   "cell_type": "code",
   "execution_count": 76,
   "id": "623396a2-3f83-41e8-ad82-90807edb6624",
   "metadata": {},
   "outputs": [
    {
     "data": {
      "text/plain": [
       "list"
      ]
     },
     "execution_count": 76,
     "metadata": {},
     "output_type": "execute_result"
    }
   ],
   "source": [
    "type(a)"
   ]
  },
  {
   "cell_type": "markdown",
   "id": "be70c805-b2d4-432a-b1d8-91787f7a9c32",
   "metadata": {},
   "source": [
    "### list has element se[arated by comma.\n",
    "### it is heterogeneous- means different data types like int, floats, str and bool\n",
    "### square bracket"
   ]
  },
  {
   "cell_type": "code",
   "execution_count": 81,
   "id": "d6b84b22-e24c-48e6-be8b-e05045a9bf91",
   "metadata": {},
   "outputs": [
    {
     "data": {
      "text/plain": [
       "1"
      ]
     },
     "execution_count": 81,
     "metadata": {},
     "output_type": "execute_result"
    }
   ],
   "source": [
    "a[0]   ### [0]-> indexing\n"
   ]
  },
  {
   "cell_type": "code",
   "execution_count": 83,
   "id": "1d5c4834-da17-428a-ab44-fc76f2f869b1",
   "metadata": {},
   "outputs": [
    {
     "data": {
      "text/plain": [
       "5"
      ]
     },
     "execution_count": 83,
     "metadata": {},
     "output_type": "execute_result"
    }
   ],
   "source": [
    "a[4]"
   ]
  },
  {
   "cell_type": "code",
   "execution_count": 86,
   "id": "4e8fce22-df2b-433a-a1b3-523c252c9182",
   "metadata": {},
   "outputs": [
    {
     "name": "stdout",
     "output_type": "stream",
     "text": [
      "10\n"
     ]
    }
   ],
   "source": [
    "print('10')"
   ]
  },
  {
   "cell_type": "code",
   "execution_count": null,
   "id": "ce848c88-1633-47fe-be4c-283e9b374f3b",
   "metadata": {},
   "outputs": [],
   "source": []
  }
 ],
 "metadata": {
  "kernelspec": {
   "display_name": "Python 3 (ipykernel)",
   "language": "python",
   "name": "python3"
  },
  "language_info": {
   "codemirror_mode": {
    "name": "ipython",
    "version": 3
   },
   "file_extension": ".py",
   "mimetype": "text/x-python",
   "name": "python",
   "nbconvert_exporter": "python",
   "pygments_lexer": "ipython3",
   "version": "3.12.4"
  }
 },
 "nbformat": 4,
 "nbformat_minor": 5
}
